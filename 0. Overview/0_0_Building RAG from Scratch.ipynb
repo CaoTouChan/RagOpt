{
 "cells": [
  {
   "cell_type": "markdown",
   "source": [
    "# Building RAG from Scratch\n",
    "\n",
    "\n",
    "\n",
    "This notebook walks through the steps to build a RAG model from scratch, using the Llama 2 model as an example. We will walk through the following steps:\n",
    "\n",
    "1. **Setup the environment**: Sentence Transformers as the embedding model, Llama CPP as the LLM, and Postgres as the vector store.\n",
    "2. **Build an ingestion pipeline**: load documents, split into text chunks, generate embeddings, and load into the vector store.\n",
    "3. **Build a retrieval pipeline**: generate a query embedding, query the vector store, parse the results, and put into a retriever.\n",
    "\n",
    "![Rag Pipeline](../static/img/0_rag_pipeline.jpg)"
   ],
   "metadata": {
    "collapsed": false
   }
  },
  {
   "cell_type": "markdown",
   "source": [
    "# 1. Setup"
   ],
   "metadata": {
    "collapsed": false
   }
  },
  {
   "cell_type": "markdown",
   "source": [
    "## 1.1 Sentence Transformers"
   ],
   "metadata": {
    "collapsed": false
   }
  },
  {
   "cell_type": "code",
   "execution_count": 1,
   "outputs": [],
   "source": [
    "# sentence transformers\n",
    "from llama_index.embeddings import HuggingFaceEmbedding\n",
    "\n",
    "embed_model = HuggingFaceEmbedding(model_name=\"BAAI/bge-small-en\")"
   ],
   "metadata": {
    "collapsed": false
   }
  },
  {
   "cell_type": "markdown",
   "source": [
    "## 1.2 Llama CPP"
   ],
   "metadata": {
    "collapsed": false
   }
  },
  {
   "cell_type": "code",
   "execution_count": 2,
   "outputs": [
    {
     "name": "stdout",
     "output_type": "stream",
     "text": [
      "Requirement already satisfied: llama-cpp-python==0.2.32 in /Users/alex/miniforge3/envs/RagOpt/lib/python3.9/site-packages (0.2.32)\r\n",
      "Requirement already satisfied: typing-extensions>=4.5.0 in /Users/alex/miniforge3/envs/RagOpt/lib/python3.9/site-packages (from llama-cpp-python==0.2.32) (4.9.0)\r\n",
      "Requirement already satisfied: numpy>=1.20.0 in /Users/alex/miniforge3/envs/RagOpt/lib/python3.9/site-packages (from llama-cpp-python==0.2.32) (1.26.3)\r\n",
      "Requirement already satisfied: diskcache>=5.6.1 in /Users/alex/miniforge3/envs/RagOpt/lib/python3.9/site-packages (from llama-cpp-python==0.2.32) (5.6.3)\r\n",
      "Requirement already satisfied: jinja2>=2.11.3 in /Users/alex/miniforge3/envs/RagOpt/lib/python3.9/site-packages (from llama-cpp-python==0.2.32) (3.1.2)\r\n",
      "Requirement already satisfied: MarkupSafe>=2.0 in /Users/alex/miniforge3/envs/RagOpt/lib/python3.9/site-packages (from jinja2>=2.11.3->llama-cpp-python==0.2.32) (2.1.3)\r\n"
     ]
    }
   ],
   "source": [
    "!pip install llama-cpp-python==0.2.32"
   ],
   "metadata": {
    "collapsed": false
   }
  },
  {
   "cell_type": "code",
   "execution_count": 3,
   "outputs": [
    {
     "name": "stderr",
     "output_type": "stream",
     "text": [
      "llama_model_loader: loaded meta data with 19 key-value pairs and 363 tensors from /Users/alex/cache_files/llama_index/models/llama-2-13b-chat.Q4_0.gguf (version GGUF V2)\n",
      "llama_model_loader: Dumping metadata keys/values. Note: KV overrides do not apply in this output.\n",
      "llama_model_loader: - kv   0:                       general.architecture str              = llama\n",
      "llama_model_loader: - kv   1:                               general.name str              = LLaMA v2\n",
      "llama_model_loader: - kv   2:                       llama.context_length u32              = 4096\n",
      "llama_model_loader: - kv   3:                     llama.embedding_length u32              = 5120\n",
      "llama_model_loader: - kv   4:                          llama.block_count u32              = 40\n",
      "llama_model_loader: - kv   5:                  llama.feed_forward_length u32              = 13824\n",
      "llama_model_loader: - kv   6:                 llama.rope.dimension_count u32              = 128\n",
      "llama_model_loader: - kv   7:                 llama.attention.head_count u32              = 40\n",
      "llama_model_loader: - kv   8:              llama.attention.head_count_kv u32              = 40\n",
      "llama_model_loader: - kv   9:     llama.attention.layer_norm_rms_epsilon f32              = 0.000010\n",
      "llama_model_loader: - kv  10:                          general.file_type u32              = 2\n",
      "llama_model_loader: - kv  11:                       tokenizer.ggml.model str              = llama\n",
      "llama_model_loader: - kv  12:                      tokenizer.ggml.tokens arr[str,32000]   = [\"<unk>\", \"<s>\", \"</s>\", \"<0x00>\", \"<...\n",
      "llama_model_loader: - kv  13:                      tokenizer.ggml.scores arr[f32,32000]   = [0.000000, 0.000000, 0.000000, 0.0000...\n",
      "llama_model_loader: - kv  14:                  tokenizer.ggml.token_type arr[i32,32000]   = [2, 3, 3, 6, 6, 6, 6, 6, 6, 6, 6, 6, ...\n",
      "llama_model_loader: - kv  15:                tokenizer.ggml.bos_token_id u32              = 1\n",
      "llama_model_loader: - kv  16:                tokenizer.ggml.eos_token_id u32              = 2\n",
      "llama_model_loader: - kv  17:            tokenizer.ggml.unknown_token_id u32              = 0\n",
      "llama_model_loader: - kv  18:               general.quantization_version u32              = 2\n",
      "llama_model_loader: - type  f32:   81 tensors\n",
      "llama_model_loader: - type q4_0:  281 tensors\n",
      "llama_model_loader: - type q6_K:    1 tensors\n",
      "llm_load_vocab: special tokens definition check successful ( 259/32000 ).\n",
      "llm_load_print_meta: format           = GGUF V2\n",
      "llm_load_print_meta: arch             = llama\n",
      "llm_load_print_meta: vocab type       = SPM\n",
      "llm_load_print_meta: n_vocab          = 32000\n",
      "llm_load_print_meta: n_merges         = 0\n",
      "llm_load_print_meta: n_ctx_train      = 4096\n",
      "llm_load_print_meta: n_embd           = 5120\n",
      "llm_load_print_meta: n_head           = 40\n",
      "llm_load_print_meta: n_head_kv        = 40\n",
      "llm_load_print_meta: n_layer          = 40\n",
      "llm_load_print_meta: n_rot            = 128\n",
      "llm_load_print_meta: n_embd_head_k    = 128\n",
      "llm_load_print_meta: n_embd_head_v    = 128\n",
      "llm_load_print_meta: n_gqa            = 1\n",
      "llm_load_print_meta: n_embd_k_gqa     = 5120\n",
      "llm_load_print_meta: n_embd_v_gqa     = 5120\n",
      "llm_load_print_meta: f_norm_eps       = 0.0e+00\n",
      "llm_load_print_meta: f_norm_rms_eps   = 1.0e-05\n",
      "llm_load_print_meta: f_clamp_kqv      = 0.0e+00\n",
      "llm_load_print_meta: f_max_alibi_bias = 0.0e+00\n",
      "llm_load_print_meta: n_ff             = 13824\n",
      "llm_load_print_meta: n_expert         = 0\n",
      "llm_load_print_meta: n_expert_used    = 0\n",
      "llm_load_print_meta: rope scaling     = linear\n",
      "llm_load_print_meta: freq_base_train  = 10000.0\n",
      "llm_load_print_meta: freq_scale_train = 1\n",
      "llm_load_print_meta: n_yarn_orig_ctx  = 4096\n",
      "llm_load_print_meta: rope_finetuned   = unknown\n",
      "llm_load_print_meta: model type       = 13B\n",
      "llm_load_print_meta: model ftype      = Q4_0\n",
      "llm_load_print_meta: model params     = 13.02 B\n",
      "llm_load_print_meta: model size       = 6.86 GiB (4.53 BPW) \n",
      "llm_load_print_meta: general.name     = LLaMA v2\n",
      "llm_load_print_meta: BOS token        = 1 '<s>'\n",
      "llm_load_print_meta: EOS token        = 2 '</s>'\n",
      "llm_load_print_meta: UNK token        = 0 '<unk>'\n",
      "llm_load_print_meta: LF token         = 13 '<0x0A>'\n",
      "llm_load_tensors: ggml ctx size =    0.28 MiB\n",
      "ggml_backend_metal_buffer_from_ptr: allocated buffer, size =   170.20 MiB, ( 1226.98 / 21845.34)\n",
      "llm_load_tensors: offloading 1 repeating layers to GPU\n",
      "llm_load_tensors: offloaded 1/41 layers to GPU\n",
      "llm_load_tensors:        CPU buffer size =  7023.90 MiB\n",
      "llm_load_tensors:      Metal buffer size =   170.20 MiB\n",
      "...................................................................................................\n",
      "llama_new_context_with_model: n_ctx      = 3900\n",
      "llama_new_context_with_model: freq_base  = 10000.0\n",
      "llama_new_context_with_model: freq_scale = 1\n",
      "ggml_metal_init: allocating\n",
      "ggml_metal_init: found device: Apple M1 Pro\n",
      "ggml_metal_init: picking default device: Apple M1 Pro\n",
      "ggml_metal_init: default.metallib not found, loading from source\n",
      "ggml_metal_init: GGML_METAL_PATH_RESOURCES = nil\n",
      "ggml_metal_init: loading '/Users/alex/miniforge3/envs/RagOpt/lib/python3.9/site-packages/llama_cpp/ggml-metal.metal'\n",
      "ggml_metal_init: GPU name:   Apple M1 Pro\n",
      "ggml_metal_init: GPU family: MTLGPUFamilyApple7  (1007)\n",
      "ggml_metal_init: GPU family: MTLGPUFamilyCommon3 (3003)\n",
      "ggml_metal_init: GPU family: MTLGPUFamilyMetal3  (5001)\n",
      "ggml_metal_init: simdgroup reduction support   = true\n",
      "ggml_metal_init: simdgroup matrix mul. support = true\n",
      "ggml_metal_init: hasUnifiedMemory              = true\n",
      "ggml_metal_init: recommendedMaxWorkingSetSize  = 22906.50 MB\n",
      "llama_kv_cache_init:        CPU KV buffer size =  2970.70 MiB\n",
      "ggml_backend_metal_buffer_type_alloc_buffer: allocated buffer, size =    76.17 MiB, ( 1303.53 / 21845.34)\n",
      "llama_kv_cache_init:      Metal KV buffer size =    76.17 MiB\n",
      "llama_new_context_with_model: KV self size  = 3046.88 MiB, K (f16): 1523.44 MiB, V (f16): 1523.44 MiB\n",
      "ggml_backend_metal_buffer_type_alloc_buffer: allocated buffer, size =     0.02 MiB, ( 1303.55 / 21845.34)\n",
      "ggml_backend_metal_buffer_type_alloc_buffer: allocated buffer, size =   362.31 MiB, ( 1665.84 / 21845.34)\n",
      "AVX = 0 | AVX_VNNI = 0 | AVX2 = 0 | AVX512 = 0 | AVX512_VBMI = 0 | AVX512_VNNI = 0 | FMA = 0 | NEON = 1 | ARM_FMA = 1 | F16C = 0 | FP16_VA = 1 | WASM_SIMD = 0 | BLAS = 1 | SSE3 = 0 | SSSE3 = 0 | VSX = 0 | \n",
      "llama_new_context_with_model: graph splits (measure): 5\n",
      "llama_new_context_with_model:      Metal compute buffer size =   362.31 MiB\n",
      "llama_new_context_with_model:        CPU compute buffer size =   362.31 MiB\n",
      "Model metadata: {'general.quantization_version': '2', 'tokenizer.ggml.unknown_token_id': '0', 'tokenizer.ggml.eos_token_id': '2', 'tokenizer.ggml.bos_token_id': '1', 'tokenizer.ggml.model': 'llama', 'llama.attention.head_count_kv': '40', 'llama.context_length': '4096', 'llama.attention.head_count': '40', 'llama.rope.dimension_count': '128', 'general.file_type': '2', 'llama.feed_forward_length': '13824', 'llama.embedding_length': '5120', 'llama.block_count': '40', 'general.architecture': 'llama', 'llama.attention.layer_norm_rms_epsilon': '0.000010', 'general.name': 'LLaMA v2'}\n"
     ]
    }
   ],
   "source": [
    "from llama_index.llms import LlamaCPP\n",
    "\n",
    "# model_url = \"https://huggingface.co/TheBloke/Llama-2-13B-chat-GGML/resolve/main/llama-2-13b-chat.ggmlv3.q4_0.bin\"\n",
    "model_url = \"https://huggingface.co/TheBloke/Llama-2-13B-chat-GGUF/resolve/main/llama-2-13b-chat.Q4_0.gguf\"\n",
    "\n",
    "llm = LlamaCPP(\n",
    "    # You can pass in the URL to a GGML model to download it automatically\n",
    "    model_url=model_url,\n",
    "    # optionally, you can set the path to a pre-downloaded model instead of model_url\n",
    "    model_path=None,\n",
    "    temperature=0.1,\n",
    "    max_new_tokens=256,\n",
    "    # llama2 has a context window of 4096 tokens, but we set it lower to allow for some wiggle room\n",
    "    context_window=3900,\n",
    "    # kwargs to pass to __call__()\n",
    "    generate_kwargs={},\n",
    "    # kwargs to pass to __init__()\n",
    "    # set to at least 1 to use GPU\n",
    "    model_kwargs={\"n_gpu_layers\": 1},\n",
    "    verbose=True,\n",
    ")"
   ],
   "metadata": {
    "collapsed": false
   }
  },
  {
   "cell_type": "markdown",
   "source": [
    "## 1.3 Define Service Context"
   ],
   "metadata": {
    "collapsed": false
   }
  },
  {
   "cell_type": "code",
   "execution_count": 4,
   "outputs": [],
   "source": [
    "from llama_index import ServiceContext\n",
    "\n",
    "service_context = ServiceContext.from_defaults(\n",
    "    llm=llm, embed_model=embed_model\n",
    ")"
   ],
   "metadata": {
    "collapsed": false
   }
  },
  {
   "cell_type": "markdown",
   "source": [
    "## 1.4 Initialize Postgres\n",
    "\n",
    "Setup a postgres database on MacOS: [Setting up a PostgreSQL Database on Mac](https://www.sqlshack.com/setting-up-a-postgresql-database-on-mac/). Then Add a role like the following:\n",
    "\n",
    "```sql\n",
    "   CREATE ROLE <user> WITH LOGIN PASSWORD '<password>';\n",
    "   ALTER ROLE <user> SUPERUSER;\n",
    "```"
   ],
   "metadata": {
    "collapsed": false
   }
  },
  {
   "cell_type": "code",
   "execution_count": 5,
   "outputs": [
    {
     "name": "stdout",
     "output_type": "stream",
     "text": [
      "Collecting psycopg2-binary\r\n",
      "  Downloading psycopg2_binary-2.9.9-cp39-cp39-macosx_11_0_arm64.whl.metadata (4.4 kB)\r\n",
      "Collecting pgvector\r\n",
      "  Downloading pgvector-0.2.4-py2.py3-none-any.whl.metadata (9.8 kB)\r\n",
      "Collecting asyncpg\r\n",
      "  Downloading asyncpg-0.29.0-cp39-cp39-macosx_11_0_arm64.whl.metadata (4.4 kB)\r\n",
      "Requirement already satisfied: greenlet in /Users/alex/miniforge3/envs/RagOpt/lib/python3.9/site-packages (3.0.3)\r\n",
      "Requirement already satisfied: sqlalchemy[asyncio] in /Users/alex/miniforge3/envs/RagOpt/lib/python3.9/site-packages (2.0.25)\r\n",
      "Requirement already satisfied: numpy in /Users/alex/miniforge3/envs/RagOpt/lib/python3.9/site-packages (from pgvector) (1.26.3)\r\n",
      "Requirement already satisfied: async-timeout>=4.0.3 in /Users/alex/miniforge3/envs/RagOpt/lib/python3.9/site-packages (from asyncpg) (4.0.3)\r\n",
      "Requirement already satisfied: typing-extensions>=4.6.0 in /Users/alex/miniforge3/envs/RagOpt/lib/python3.9/site-packages (from sqlalchemy[asyncio]) (4.9.0)\r\n",
      "Downloading psycopg2_binary-2.9.9-cp39-cp39-macosx_11_0_arm64.whl (2.6 MB)\r\n",
      "\u001B[2K   \u001B[90m━━━━━━━━━━━━━━━━━━━━━━━━━━━━━━━━━━━━━━━━\u001B[0m \u001B[32m2.6/2.6 MB\u001B[0m \u001B[31m1.6 MB/s\u001B[0m eta \u001B[36m0:00:00\u001B[0m00:01\u001B[0m00:01\u001B[0m\r\n",
      "\u001B[?25hDownloading pgvector-0.2.4-py2.py3-none-any.whl (9.6 kB)\r\n",
      "Downloading asyncpg-0.29.0-cp39-cp39-macosx_11_0_arm64.whl (665 kB)\r\n",
      "\u001B[2K   \u001B[90m━━━━━━━━━━━━━━━━━━━━━━━━━━━━━━━━━━━━━━━━\u001B[0m \u001B[32m665.0/665.0 kB\u001B[0m \u001B[31m1.9 MB/s\u001B[0m eta \u001B[36m0:00:00\u001B[0m00:01\u001B[0m00:01\u001B[0m\r\n",
      "\u001B[?25hInstalling collected packages: psycopg2-binary, pgvector, asyncpg\r\n",
      "Successfully installed asyncpg-0.29.0 pgvector-0.2.4 psycopg2-binary-2.9.9\r\n"
     ]
    }
   ],
   "source": [
    "!pip install psycopg2-binary pgvector asyncpg \"sqlalchemy[asyncio]\" greenlet"
   ],
   "metadata": {
    "collapsed": false
   }
  },
  {
   "cell_type": "code",
   "execution_count": 5,
   "outputs": [],
   "source": [
    "import psycopg2\n",
    "\n",
    "db_name = \"vector_db\"\n",
    "host = \"localhost\"\n",
    "password = \"password\"  # change to your password\n",
    "port = \"5432\"\n",
    "user = \"alex\"  # change to your user\n",
    "# conn = psycopg2.connect(connection_string)\n",
    "conn = psycopg2.connect(\n",
    "    dbname=\"postgres\",\n",
    "    host=host,\n",
    "    password=password,\n",
    "    port=port,\n",
    "    user=user,\n",
    ")\n",
    "conn.autocommit = True\n",
    "\n",
    "with conn.cursor() as c:\n",
    "    c.execute(f\"DROP DATABASE IF EXISTS {db_name}\")\n",
    "    c.execute(f\"CREATE DATABASE {db_name}\")"
   ],
   "metadata": {
    "collapsed": false
   }
  },
  {
   "cell_type": "code",
   "execution_count": 26,
   "outputs": [],
   "source": [
    "from sqlalchemy import make_url\n",
    "from llama_index.vector_stores import PGVectorStore\n",
    "\n",
    "vector_store = PGVectorStore.from_params(\n",
    "    database=db_name,\n",
    "    host=host,\n",
    "    password=password,\n",
    "    port=port,\n",
    "    user=user,\n",
    "    table_name=\"llama2_paper\",\n",
    "    embed_dim=384,  # openai embedding dimension\n",
    ")"
   ],
   "metadata": {
    "collapsed": false
   }
  },
  {
   "cell_type": "markdown",
   "source": [
    "# 2. Build an Ingestion Pipeline"
   ],
   "metadata": {
    "collapsed": false
   }
  },
  {
   "cell_type": "markdown",
   "source": [
    "## 2.1 Load Data"
   ],
   "metadata": {
    "collapsed": false
   }
  },
  {
   "cell_type": "code",
   "execution_count": 8,
   "outputs": [
    {
     "name": "stdout",
     "output_type": "stream",
     "text": [
      "--2024-01-24 12:16:08--  https://arxiv.org/pdf/2307.09288.pdf\r\n",
      "Resolving arxiv.org (arxiv.org)... 151.101.3.42, 151.101.131.42, 151.101.195.42, ...\r\n",
      "Connecting to arxiv.org (arxiv.org)|151.101.3.42|:443... connected.\r\n",
      "HTTP request sent, awaiting response... 200 OK\r\n",
      "Length: 13661300 (13M) [application/pdf]\r\n",
      "Saving to: ‘data/llama2.pdf’\r\n",
      "\r\n",
      "data/llama2.pdf     100%[===================>]  13.03M  3.05MB/s    in 4.8s    \r\n",
      "\r\n",
      "2024-01-24 12:16:13 (2.69 MB/s) - ‘data/llama2.pdf’ saved [13661300/13661300]\r\n",
      "\r\n"
     ]
    }
   ],
   "source": [
    "!mkdir data\n",
    "!wget --user-agent \"Mozilla\" \"https://arxiv.org/pdf/2307.09288.pdf\" -O \"data/llama2.pdf\""
   ],
   "metadata": {
    "collapsed": false
   }
  },
  {
   "cell_type": "code",
   "execution_count": 7,
   "outputs": [],
   "source": [
    "from pathlib import Path\n",
    "from llama_hub.file.pymu_pdf.base import PyMuPDFReader"
   ],
   "metadata": {
    "collapsed": false
   }
  },
  {
   "cell_type": "code",
   "execution_count": 8,
   "outputs": [],
   "source": [
    "loader = PyMuPDFReader()\n",
    "documents = loader.load(file_path=\"./data/llama2.pdf\")"
   ],
   "metadata": {
    "collapsed": false
   }
  },
  {
   "cell_type": "markdown",
   "source": [
    "## 2.2 Split Documents\n",
    "\n",
    "In this notebook, we will split the documents into chunks of 1024.\n",
    "\n",
    "In practice, you may want to split into different chunks with different methods, because:\n",
    "\n",
    "- relevant and semantically rich, improving the efficiency and accuracy\n",
    "- sentences focus on specific meanings, while larger texts capture broader contexts, with trade-offs in terms of noise and precision\n",
    "- shorter queries aligning better with sentence-level embeddings and longer ones requiring paragraph or document-level embeddings\n",
    "\n",
    "There are a lot **Chunking Strategies**, including:\n",
    "- **Fixed-size** is best for uniformity and simplicity, but may lost context and not adaptive.\n",
    "- **Sentence splitting** is better for semantic relevance and may not capture broader context well.\n",
    "- **Recursive chunking** is an iterative method that adapts to the content, but may result in uneven chunk sizes.\n",
    "- **Specialized chunking** is used for structured content formats to maintain formatting and structure, but requires specific methods for different formats.\n",
    "\n",
    "More details can be found in [Chunking Strategies for LLM Applications](https://www.pinecone.io/learn/chunking-strategies/)"
   ],
   "metadata": {
    "collapsed": false
   }
  },
  {
   "cell_type": "code",
   "execution_count": 9,
   "outputs": [],
   "source": [
    "from llama_index.node_parser.text import SentenceSplitter"
   ],
   "metadata": {
    "collapsed": false
   }
  },
  {
   "cell_type": "code",
   "execution_count": 10,
   "outputs": [],
   "source": [
    "text_parser = SentenceSplitter(\n",
    "    chunk_size=1024,\n",
    "    # separator=\" \",\n",
    ")"
   ],
   "metadata": {
    "collapsed": false
   }
  },
  {
   "cell_type": "code",
   "execution_count": 11,
   "outputs": [],
   "source": [
    "text_chunks = []\n",
    "# maintain relationship with source doc index, to help inject doc metadata in (3)\n",
    "doc_idxs = []\n",
    "for doc_idx, doc in enumerate(documents):\n",
    "    cur_text_chunks = text_parser.split_text(doc.text)\n",
    "    text_chunks.extend(cur_text_chunks)\n",
    "    doc_idxs.extend([doc_idx] * len(cur_text_chunks))"
   ],
   "metadata": {
    "collapsed": false
   }
  },
  {
   "cell_type": "markdown",
   "source": [
    "## 2.3 Construct Nodes from Text Chunks\n",
    "\n",
    "A **Node** is a representation of a segment from a source Document. This segment could be a piece of text, an image, or any other type of content. Like Documents, Nodes also **carry metadata** and information about their relationships with other nodes."
   ],
   "metadata": {
    "collapsed": false
   }
  },
  {
   "cell_type": "code",
   "execution_count": 12,
   "outputs": [],
   "source": [
    "from llama_index.schema import TextNode\n",
    "\n",
    "nodes = []\n",
    "for idx, text_chunk in enumerate(text_chunks):\n",
    "    node = TextNode(\n",
    "        text=text_chunk,\n",
    "    )\n",
    "    src_doc = documents[doc_idxs[idx]]\n",
    "    node.metadata = src_doc.metadata\n",
    "    nodes.append(node)\n"
   ],
   "metadata": {
    "collapsed": false
   }
  },
  {
   "cell_type": "markdown",
   "source": [
    "## 2.4 Generate Embeddings for each Node"
   ],
   "metadata": {
    "collapsed": false
   }
  },
  {
   "cell_type": "code",
   "execution_count": 13,
   "outputs": [],
   "source": [
    "for node in nodes:\n",
    "    node_embedding = embed_model.get_text_embedding(\n",
    "        node.get_content(metadata_mode=\"all\")\n",
    "    )\n",
    "    node.embedding = node_embedding\n"
   ],
   "metadata": {
    "collapsed": false
   }
  },
  {
   "cell_type": "markdown",
   "source": [
    "## 2.5 Load Nodes into a Vector Store\n",
    "\n",
    "insert these nodes into our PostgresVectorStore"
   ],
   "metadata": {
    "collapsed": false
   }
  },
  {
   "cell_type": "code",
   "execution_count": 14,
   "outputs": [
    {
     "data": {
      "text/plain": "['72d428b0-34ec-4302-8fb6-0fa7432221a7',\n 'b9b2ba82-5ed2-4673-aca3-a673df40c8f6',\n '23911d78-faa5-4901-901e-701f36f0633a',\n '58dd3296-edaa-4026-9cab-d830724876e1',\n '52cda33f-2994-47ed-bc45-9841089f47b2',\n '781d6315-538f-4de7-970c-04fcbf858b2c',\n 'd58cf39e-edb3-495c-8826-7d81d31dd8bd',\n '7205cfad-9eff-4936-bb21-afff28c823a3',\n 'c60412cc-22dc-4bf0-b963-51082d909002',\n '67b02abe-4827-4750-b149-3374cce9821d',\n 'c271681c-b937-4d82-8b1b-697a9bdc3444',\n 'd67a2a15-5a5e-4328-8500-d701755409e2',\n '26727e9e-656d-4a3a-94c1-027db686eb88',\n '60792374-e6c1-4c86-8ac5-ef2873cea6d2',\n '31ac73dd-5a68-4f23-aeec-a8893433e5f2',\n '9015aca5-c779-4716-a367-00e297720611',\n '55bc9afb-9f26-4c0f-bf6b-e7cf60a61556',\n '351fcf0e-8667-42ae-ab3c-06a473f99a8e',\n 'e73224db-95a9-435f-9445-db537dd9a837',\n '02ccc30a-4143-47fb-ad0b-d4243fc37119',\n '5676ea27-61d0-43df-82f5-592a852e1799',\n 'e71cb5d0-f0d9-4d66-9bb4-c3cc7520b8ee',\n 'adc0e273-2e7b-4c2e-a3e2-364a82159e6b',\n '70aac457-9e60-4921-8763-62ea304bf8bc',\n '39ceb2c0-e1cf-45f1-b35d-8b1f14925b62',\n '8fc2c9bd-48d7-4459-a7ed-c2760185efd2',\n '251e93f8-233b-42d1-88f9-1294598d4e17',\n '5047b331-b220-4dd6-a2ab-48eed5e2af2a',\n '304dab1e-1ad4-4b1b-8e2b-28b256600bc7',\n 'ddf67b74-8a64-4504-abdd-5172ce20ec71',\n 'f2ac7038-e3f0-44a1-8add-8f39fd462914',\n '5f767a10-0495-42e6-9e5c-5a7961e06ecc',\n 'ba3ad83d-fa62-4514-b743-137373a9866e',\n '19f2f039-e973-491b-a505-a4877638ada5',\n '34b4a4cb-8536-4754-a4ce-e1bc55492b7f',\n '65ee1f6c-d635-45e2-ac4b-761fafe8e8c1',\n '7ed1fbfb-cd96-4e63-aa85-4dc15b802f73',\n '06c2e442-f596-43ae-a9de-988a855dc41b',\n '7a6ffa69-f11d-42ca-9bf8-2d26791e31b7',\n '2c2dc858-919b-46f1-a2ea-a555ca0541d7',\n 'b6d2af76-ffc1-4fff-b17a-c3f16960051b',\n '1370acf8-fefb-4fc6-a577-1eb00bb5fde1',\n '459d0a87-8e67-477a-aade-4c2b4920b5bd',\n '9d75239b-b55d-4ee0-b74a-009d16a006dd',\n '23c75d04-e7f7-41d7-8ebb-33ab3cdd88ba',\n 'd70e1c0e-3937-4e5f-b98e-d713513a518e',\n 'ab7c86a2-18fe-4180-8c9e-769039614825',\n '2b91b5ad-0cea-4e37-bb28-50812355b285',\n '300bad3f-6186-4164-9fdc-d8eaa942fafe',\n '927a0873-eb44-4f09-b224-aa3c1db567cb',\n '179884c1-e5e3-4029-bc64-606c9aad535b',\n '8e9ca804-a3e1-4b01-b8b9-3032b4398913',\n '3600f482-2bfb-49ed-bf27-002c6e25aa96',\n '4be23ca1-f2fc-4821-b407-ad09fc71af1c',\n 'fd775bd4-2b2a-4a30-9498-c21e78a13716',\n '188a47ed-b8e1-4d65-9ed4-d0473c31e3a0',\n 'b7e924a3-c8e9-43e4-9562-33bab59be4ab',\n 'd8a0d9c4-7728-43f2-8813-bc63ea3d26a8',\n 'c768991b-21f5-4b2a-9fcf-c9dfd4688963',\n '86f2014b-590f-4c4c-82a3-b3fddcee4150',\n 'deaab102-2452-4b7c-877f-e423a86dc988',\n '5b452959-80b5-4bfb-a1b7-5521fa91714a',\n '45053717-3f30-42f6-8b76-378fcc13af3f',\n 'a1bf9b24-1301-47e1-9c18-2c45db7cb84c',\n '51bceb0a-f9a4-4b8a-bd77-0cffe9347931',\n 'c4c4d988-af5c-4908-b2dd-5f85244d2e18',\n 'a5f5c8e8-6ef1-4317-85f5-8b5b284c7c31',\n 'fab269e7-f2be-4921-b918-0238802a9729',\n '6a5a80af-0d54-46bd-908f-1fe36aff4226',\n 'ef2ea2d2-89ba-467f-87f4-760f88af0eef',\n 'fc01d6b9-8ca8-4057-856b-7be9197feb75',\n '3da958b2-5907-43da-9799-dcbbd6e4bf3f',\n 'ffe5903d-cb7f-41fa-95ad-3d07c7f89d42',\n '3c734059-b25b-4a47-893e-dc8e3c21e938',\n '94d17286-2b4a-450c-ab27-914229f8cddf',\n '1f0a44a5-f730-4e4e-9449-b4ac954ac7b1',\n '4d182b9d-f540-46dd-89e3-83579b6e98f9',\n '22cf29e6-76d2-4c44-ab82-7ada03eadd0c',\n '53e33db5-1a92-4ed1-b446-156e70f02ff7',\n '5b04b027-eef4-4d84-99f4-38ab6f650376',\n 'af0837f4-fd28-4ae3-806f-b5190e20df6a',\n '2a4d90d8-d02e-4db4-9a94-6f9db46ae586',\n '39d049a3-a7ef-4242-b8a7-0c1db38d7fb8',\n 'ffd61823-93f7-43e9-95f3-195b0b5b15bc',\n '24e71db0-3053-4925-8f48-89bcd172999e',\n '4b53636f-94b2-41b2-bac5-e1aae5190d99',\n '9243f4bd-11fa-4ef5-9cec-5b146d01368b',\n 'd9950f00-2bbf-47f6-bfb2-f69a7d053b2f',\n 'a021fcf9-8a41-4612-813e-0a8aaa57cb80',\n 'de5e1123-9c57-4d5a-9354-b804ed4e9a44',\n 'eb9e72d3-85fa-44eb-9286-7b9a5024e2f2',\n 'e19f91dc-b229-4174-92d3-9e7c91ef8c35',\n 'ca736f50-e85b-4257-a84d-9de75478b6d9',\n 'faab7e98-9dd3-4c97-8755-20b4ff8b50c7',\n 'b4af19d5-89cd-4977-8c57-dd0301bfd76f',\n '3b99ad48-d206-4454-8577-34920beed79e',\n '33de62f2-3ae7-40c9-8ea5-69a7988da5ec',\n '65b0b6c1-b875-4c48-ae68-df7db81a854f',\n 'f46b5ea1-009b-4a9a-94d7-e459d0f5844e',\n 'f4178e5f-05e8-4469-9f81-d92d26bdaebf',\n '9f3cefd3-3d46-4a57-9ebe-e22505931e18',\n '06b8c26f-7b9b-49b0-a820-7d7249065a9b',\n 'cd48287d-c69e-4da2-b07e-1e7e543c292d',\n 'b347843e-b11a-49b1-bebb-f531a27c42f4',\n '8c05aee7-add2-432a-b05c-941c5122d9d4',\n '3feea280-ae08-4904-ad4a-6a5409f6e9fb',\n 'be16626a-4241-4700-a012-36db7904a600']"
     },
     "execution_count": 14,
     "metadata": {},
     "output_type": "execute_result"
    }
   ],
   "source": [
    "vector_store.add(nodes)"
   ],
   "metadata": {
    "collapsed": false
   }
  },
  {
   "cell_type": "markdown",
   "source": [
    "# 3. Build Retrieval Pipeline"
   ],
   "metadata": {
    "collapsed": false
   }
  },
  {
   "cell_type": "code",
   "execution_count": 15,
   "outputs": [],
   "source": [
    "query_str = \"Can you tell me about the key concepts for safety finetuning\""
   ],
   "metadata": {
    "collapsed": false
   }
  },
  {
   "cell_type": "markdown",
   "source": [
    "## 3.1 Generate Embedding for Query"
   ],
   "metadata": {
    "collapsed": false
   }
  },
  {
   "cell_type": "code",
   "execution_count": 16,
   "outputs": [],
   "source": [
    "query_embedding = embed_model.get_query_embedding(query_str)"
   ],
   "metadata": {
    "collapsed": false
   }
  },
  {
   "cell_type": "markdown",
   "source": [
    "## 3.2 Query the Vector Database"
   ],
   "metadata": {
    "collapsed": false
   }
  },
  {
   "cell_type": "code",
   "execution_count": 17,
   "outputs": [],
   "source": [
    "# construct vector store query\n",
    "from llama_index.vector_stores import VectorStoreQuery\n",
    "\n",
    "query_mode = \"default\"\n",
    "# query_mode = \"sparse\"\n",
    "# query_mode = \"hybrid\"\n",
    "\n",
    "vector_store_query = VectorStoreQuery(\n",
    "    query_embedding=query_embedding, similarity_top_k=2, mode=query_mode\n",
    ")"
   ],
   "metadata": {
    "collapsed": false
   }
  },
  {
   "cell_type": "code",
   "execution_count": 18,
   "outputs": [
    {
     "name": "stdout",
     "output_type": "stream",
     "text": [
      "TruthfulQA ↑\n",
      "ToxiGen ↓\n",
      "MPT\n",
      "7B\n",
      "29.13\n",
      "22.32\n",
      "30B\n",
      "35.25\n",
      "22.61\n",
      "Falcon\n",
      "7B\n",
      "25.95\n",
      "14.53\n",
      "40B\n",
      "40.39\n",
      "23.44\n",
      "Llama 1\n",
      "7B\n",
      "27.42\n",
      "23.00\n",
      "13B\n",
      "41.74\n",
      "23.08\n",
      "33B\n",
      "44.19\n",
      "22.57\n",
      "65B\n",
      "48.71\n",
      "21.77\n",
      "Llama 2\n",
      "7B\n",
      "33.29\n",
      "21.25\n",
      "13B\n",
      "41.86\n",
      "26.10\n",
      "34B\n",
      "43.45\n",
      "21.19\n",
      "70B\n",
      "50.18\n",
      "24.60\n",
      "Table 11: Evaluation of pretrained LLMs on automatic safety benchmarks. For TruthfulQA, we present the\n",
      "percentage of generations that are both truthful and informative (the higher the better). For ToxiGen, we\n",
      "present the percentage of toxic generations (the smaller, the better).\n",
      "Benchmarks give a summary view of model capabilities and behaviors that allow us to understand general\n",
      "patterns in the model, but they do not provide a fully comprehensive view of the impact the model may have\n",
      "on people or real-world outcomes; that would require study of end-to-end product deployments. Further\n",
      "testing and mitigation should be done to understand bias and other social issues for the specific context\n",
      "in which a system may be deployed. For this, it may be necessary to test beyond the groups available in\n",
      "the BOLD dataset (race, religion, and gender). As LLMs are integrated and deployed, we look forward to\n",
      "continuing research that will amplify their potential for positive impact on these important social issues.\n",
      "4.2\n",
      "Safety Fine-Tuning\n",
      "In this section, we describe our approach to safety fine-tuning, including safety categories, annotation\n",
      "guidelines, and the techniques we use to mitigate safety risks. We employ a process similar to the general\n",
      "fine-tuning methods as described in Section 3, with some notable differences related to safety concerns.\n",
      "Specifically, we use the following techniques in safety fine-tuning:\n",
      "1. Supervised Safety Fine-Tuning: We initialize by gathering adversarial prompts and safe demonstra-\n",
      "tions that are then included in the general supervised fine-tuning process (Section 3.1). This teaches\n",
      "the model to align with our safety guidelines even before RLHF, and thus lays the foundation for\n",
      "high-quality human preference data annotation.\n",
      "2. Safety RLHF: Subsequently, we integrate safety in the general RLHF pipeline described in Sec-\n",
      "tion 3.2.2. This includes training a safety-specific reward model and gathering more challenging\n",
      "adversarial prompts for rejection sampling style fine-tuning and PPO optimization.\n",
      "3. Safety Context Distillation: Finally, we refine our RLHF pipeline with context distillation (Askell\n",
      "et al., 2021b). This involves generating safer model responses by prefixing a prompt with a safety\n",
      "preprompt, e.g., “You are a safe and responsible assistant,” and then fine-tuning the model on the safer\n",
      "responses without the preprompt, which essentially distills the safety preprompt (context) into the\n",
      "model. We use a targeted approach that allows our safety reward model to choose whether to use\n",
      "context distillation for each sample.\n",
      "4.2.1\n",
      "Safety Categories and Annotation Guidelines\n",
      "Based on limitations of LLMs known from prior work, we design instructions for our annotation team to\n",
      "create adversarial prompts along two dimensions: a risk category, or potential topic about which the LLM\n",
      "could produce unsafe content; and an attack vector, or question style to cover different varieties of prompts\n",
      "that could elicit bad model behaviors.\n",
      "The risk categories considered can be broadly divided into the following three categories: illicit and criminal\n",
      "activities (e.g., terrorism, theft, human trafficking); hateful and harmful activities (e.g., defamation, self-\n",
      "harm, eating disorders, discrimination); and unqualified advice (e.g., medical advice, financial advice, legal\n",
      "23\n"
     ]
    }
   ],
   "source": [
    "# returns a VectorStoreQueryResult\n",
    "query_result = vector_store.query(vector_store_query)\n",
    "print(query_result.nodes[0].get_content())"
   ],
   "metadata": {
    "collapsed": false
   }
  },
  {
   "cell_type": "markdown",
   "source": [
    "## 3.3 Parse Result into a Set of Nodes"
   ],
   "metadata": {
    "collapsed": false
   }
  },
  {
   "cell_type": "code",
   "execution_count": 19,
   "outputs": [],
   "source": [
    "from llama_index.schema import NodeWithScore\n",
    "from typing import Optional\n",
    "\n",
    "nodes_with_scores = []\n",
    "for index, node in enumerate(query_result.nodes):\n",
    "    score: Optional[float] = None\n",
    "    if query_result.similarities is not None:\n",
    "        score = query_result.similarities[index]\n",
    "    nodes_with_scores.append(NodeWithScore(node=node, score=score))"
   ],
   "metadata": {
    "collapsed": false
   }
  },
  {
   "cell_type": "markdown",
   "source": [
    "## 3.4 Put into a Retriever"
   ],
   "metadata": {
    "collapsed": false
   }
  },
  {
   "cell_type": "code",
   "execution_count": 20,
   "outputs": [],
   "source": [
    "from llama_index import QueryBundle\n",
    "from llama_index.retrievers import BaseRetriever\n",
    "from typing import Any, List\n",
    "\n",
    "\n",
    "class VectorDBRetriever(BaseRetriever):\n",
    "    \"\"\"Retriever over a postgres vector store.\"\"\"\n",
    "\n",
    "    def __init__(\n",
    "        self,\n",
    "        vector_store: PGVectorStore,\n",
    "        embed_model: Any,\n",
    "        query_mode: str = \"default\",\n",
    "        similarity_top_k: int = 2,\n",
    "    ) -> None:\n",
    "        \"\"\"Init params.\"\"\"\n",
    "        self._vector_store = vector_store\n",
    "        self._embed_model = embed_model\n",
    "        self._query_mode = query_mode\n",
    "        self._similarity_top_k = similarity_top_k\n",
    "        super().__init__()\n",
    "\n",
    "    def _retrieve(self, query_bundle: QueryBundle) -> List[NodeWithScore]:\n",
    "        \"\"\"Retrieve.\"\"\"\n",
    "        query_embedding = embed_model.get_query_embedding(\n",
    "            query_bundle.query_str\n",
    "        )\n",
    "        vector_store_query = VectorStoreQuery(\n",
    "            query_embedding=query_embedding,\n",
    "            similarity_top_k=self._similarity_top_k,\n",
    "            mode=self._query_mode,\n",
    "        )\n",
    "        query_result = vector_store.query(vector_store_query)\n",
    "\n",
    "        nodes_with_scores = []\n",
    "        for index, node in enumerate(query_result.nodes):\n",
    "            score: Optional[float] = None\n",
    "            if query_result.similarities is not None:\n",
    "                score = query_result.similarities[index]\n",
    "            nodes_with_scores.append(NodeWithScore(node=node, score=score))\n",
    "\n",
    "        return nodes_with_scores"
   ],
   "metadata": {
    "collapsed": false
   }
  },
  {
   "cell_type": "code",
   "execution_count": 21,
   "outputs": [],
   "source": [
    "retriever = VectorDBRetriever(\n",
    "    vector_store, embed_model, query_mode=\"default\", similarity_top_k=2\n",
    ")\n"
   ],
   "metadata": {
    "collapsed": false
   }
  },
  {
   "cell_type": "markdown",
   "source": [
    "# 4. Use RetrieverQueryEngine to synthesize a response"
   ],
   "metadata": {
    "collapsed": false
   }
  },
  {
   "cell_type": "code",
   "execution_count": 22,
   "outputs": [],
   "source": [
    "from llama_index.query_engine import RetrieverQueryEngine\n",
    "\n",
    "query_engine = RetrieverQueryEngine.from_args(\n",
    "    retriever, service_context=service_context\n",
    ")\n"
   ],
   "metadata": {
    "collapsed": false
   }
  },
  {
   "cell_type": "code",
   "execution_count": 23,
   "outputs": [
    {
     "name": "stderr",
     "output_type": "stream",
     "text": [
      "\n",
      "llama_print_timings:        load time =   30001.45 ms\n",
      "llama_print_timings:      sample time =      11.71 ms /   117 runs   (    0.10 ms per token,  9987.20 tokens per second)\n",
      "llama_print_timings: prompt eval time =   73055.23 ms /  1850 tokens (   39.49 ms per token,    25.32 tokens per second)\n",
      "llama_print_timings:        eval time =   18684.30 ms /   116 runs   (  161.07 ms per token,     6.21 tokens per second)\n",
      "llama_print_timings:       total time =   91919.94 ms /  1966 tokens\n"
     ]
    }
   ],
   "source": [
    "query_str = \"How does Llama 2 perform compared to other open-source models?\"\n",
    "\n",
    "response = query_engine.query(query_str)"
   ],
   "metadata": {
    "collapsed": false
   }
  },
  {
   "cell_type": "code",
   "execution_count": 24,
   "outputs": [
    {
     "name": "stdout",
     "output_type": "stream",
     "text": [
      " Based on the results presented in Table 3, Llama 2 outperforms all open-source models on\n",
      "most of the benchmarks. Specifically, Llama 2 70B model improves the results on MMLU and BBH by ≈5 and\n",
      "≈8 points, respectively, compared to the best open-source model (GPT-3.5). Additionally, Llama 2 7B and 30B\n",
      "models outperform MPT models of the corresponding size on all categories besides code benchmarks.\n"
     ]
    }
   ],
   "source": [
    "print(str(response))"
   ],
   "metadata": {
    "collapsed": false
   }
  },
  {
   "cell_type": "code",
   "execution_count": 25,
   "outputs": [
    {
     "name": "stdout",
     "output_type": "stream",
     "text": [
      "Additionally, Llama 2 70B model outperforms all open-source models.\n",
      "In addition to open-source models, we also compare Llama 2 70B results to closed-source models. As shown\n",
      "in Table 4, Llama 2 70B is close to GPT-3.5 (OpenAI, 2023) on MMLU and GSM8K, but there is a significant\n",
      "gap on coding benchmarks. Llama 2 70B results are on par or better than PaLM (540B) (Chowdhery et al.,\n",
      "2022) on almost all benchmarks. There is still a large gap in performance between Llama 2 70B and GPT-4\n",
      "and PaLM-2-L.\n",
      "We also analysed the potential data contamination and share the details in Section A.6.\n",
      "Benchmark (shots)\n",
      "GPT-3.5\n",
      "GPT-4\n",
      "PaLM\n",
      "PaLM-2-L\n",
      "Llama 2\n",
      "MMLU (5-shot)\n",
      "70.0\n",
      "86.4\n",
      "69.3\n",
      "78.3\n",
      "68.9\n",
      "TriviaQA (1-shot)\n",
      "–\n",
      "–\n",
      "81.4\n",
      "86.1\n",
      "85.0\n",
      "Natural Questions (1-shot)\n",
      "–\n",
      "–\n",
      "29.3\n",
      "37.5\n",
      "33.0\n",
      "GSM8K (8-shot)\n",
      "57.1\n",
      "92.0\n",
      "56.5\n",
      "80.7\n",
      "56.8\n",
      "HumanEval (0-shot)\n",
      "48.1\n",
      "67.0\n",
      "26.2\n",
      "–\n",
      "29.9\n",
      "BIG-Bench Hard (3-shot)\n",
      "–\n",
      "–\n",
      "52.3\n",
      "65.7\n",
      "51.2\n",
      "Table 4: Comparison to closed-source models on academic benchmarks. Results for GPT-3.5 and GPT-4\n",
      "are from OpenAI (2023). Results for the PaLM model are from Chowdhery et al. (2022). Results for the\n",
      "PaLM-2-L are from Anil et al. (2023).\n",
      "3\n",
      "Fine-tuning\n",
      "Llama 2-Chat is the result of several months of research and iterative applications of alignment techniques,\n",
      "including both instruction tuning and RLHF, requiring significant computational and annotation resources.\n",
      "In this section, we report on our experiments and findings using supervised fine-tuning (Section 3.1), as\n",
      "well as initial and iterative reward modeling (Section 3.2.2) and RLHF (Section 3.2.3). We also share a\n",
      "new technique, Ghost Attention (GAtt), which we find helps control dialogue flow over multiple turns\n",
      "(Section 3.3). See Section 4.2 for safety evaluations on fine-tuned models.\n",
      "8\n"
     ]
    }
   ],
   "source": [
    "print(response.source_nodes[0].get_content())"
   ],
   "metadata": {
    "collapsed": false
   }
  },
  {
   "cell_type": "markdown",
   "source": [
    "# Reference\n",
    "* https://docs.llamaindex.ai/en/stable/examples/low_level/oss_ingestion_retrieval.html\n",
    "* https://www.pinecone.io/learn/chunking-strategies/"
   ],
   "metadata": {
    "collapsed": false
   }
  }
 ],
 "metadata": {
  "kernelspec": {
   "display_name": "Python 3",
   "language": "python",
   "name": "python3"
  },
  "language_info": {
   "codemirror_mode": {
    "name": "ipython",
    "version": 2
   },
   "file_extension": ".py",
   "mimetype": "text/x-python",
   "name": "python",
   "nbconvert_exporter": "python",
   "pygments_lexer": "ipython2",
   "version": "2.7.6"
  }
 },
 "nbformat": 4,
 "nbformat_minor": 0
}
